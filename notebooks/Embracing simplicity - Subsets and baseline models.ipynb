{
 "cells": [
  {
   "cell_type": "code",
   "execution_count": null,
   "metadata": {},
   "outputs": [],
   "source": [
    "# Imports and random seeds\n",
    "import tensorflow as tf\n",
    "import matplotlib.pyplot as plt \n",
    "\n",
    "%matplotlib inline\n",
    "\n",
    "import numpy as np\n",
    "np.random.seed(7)"
   ]
  },
  {
   "cell_type": "code",
   "execution_count": null,
   "metadata": {},
   "outputs": [],
   "source": [
    "print(tf.__version__)"
   ]
  },
  {
   "cell_type": "markdown",
   "metadata": {},
   "source": [
    "Install TensorFlow 2.0 by running if you haven't already - \n",
    "\n",
    " `pip install tensorflow==2.0.0-rc0`"
   ]
  },
  {
   "cell_type": "code",
   "execution_count": null,
   "metadata": {},
   "outputs": [],
   "source": [
    "# Load data and normalize\n",
    "fashion_mnist = mnist = tf.keras.datasets.fashion_mnist\n",
    "(x_train, y_train), (x_test, y_test) = fashion_mnist.load_data()\n",
    "\n",
    "x_train, x_test = x_train / 255.0, x_test / 255.0"
   ]
  },
  {
   "cell_type": "code",
   "execution_count": null,
   "metadata": {},
   "outputs": [],
   "source": [
    "# Helper function to generate 100 random indexes specific to labels\n",
    "def generate_random_subset(label, ds_type):\n",
    "    \n",
    "    if ds_type == 'train':\n",
    "        # Extract the label indexes\n",
    "        index, = np.where(y_train==label) \n",
    "        index_list = np.array(index)\n",
    "        # Randomly shuffle the indexes\n",
    "        np.random.shuffle(index_list)\n",
    "        # Return 100 indexes\n",
    "        return index_list[:100]\n",
    "    elif ds_type == 'test':\n",
    "        # Extract the label indexes\n",
    "        index, = np.where(y_test==label) \n",
    "        index_list = np.array(index)\n",
    "        # Randomly shuffle the indexes\n",
    "        np.random.shuffle(index_list)\n",
    "        # Return 30 indexes\n",
    "        return index_list[:30]"
   ]
  },
  {
   "cell_type": "code",
   "execution_count": null,
   "metadata": {},
   "outputs": [],
   "source": [
    "# Decode the class names\n",
    "class_names = ['T-shirt/top', 'Trouser', 'Pullover', 'Dress', 'Coat',\n",
    "               'Sandal', 'Shirt', 'Sneaker', 'Bag', 'Ankle boot']"
   ]
  },
  {
   "cell_type": "code",
   "execution_count": null,
   "metadata": {},
   "outputs": [],
   "source": [
    "# Generate the training subset\n",
    "indexes = []\n",
    "for label in np.unique(y_train):\n",
    "    index = generate_random_subset(label, 'train')\n",
    "    indexes.append(index)\n",
    "\n",
    "all_indexes = [ii for i in indexes for ii in i]\n",
    "\n",
    "x_train_s, y_train_s = x_train[all_indexes[:1000]],\\\n",
    "            y_train[all_indexes[:1000]]\n",
    "\n",
    "# Show a random image from the newly created training subset\n",
    "rand_num = np.random.randint(1, 1000)\n",
    "    \n",
    "plt.imshow(x_train_s[rand_num],cmap=plt.cm.binary)\n",
    "plt.show()\n",
    "print('\\nThe apparel is: ',str(class_names[y_train_s[rand_num]]))"
   ]
  },
  {
   "cell_type": "code",
   "execution_count": null,
   "metadata": {},
   "outputs": [],
   "source": [
    "# Generate the test subset\n",
    "indexes = []\n",
    "for label in np.unique(y_test):\n",
    "    index = generate_random_subset(label, 'test')\n",
    "    indexes.append(index)\n",
    "\n",
    "all_indexes = [ii for i in indexes for ii in i]\n",
    "\n",
    "x_test_s, y_test_s = x_test[all_indexes[:300]],\\\n",
    "            y_test[all_indexes[:300]]\n",
    "\n",
    "# Show a random image from the newly created test subset\n",
    "rand_num = np.random.randint(1, 300)\n",
    "    \n",
    "plt.imshow(x_test_s[rand_num],cmap=plt.cm.binary)\n",
    "plt.show()\n",
    "print('\\nThe apparel is: ',str(class_names[y_test_s[rand_num]]))"
   ]
  },
  {
   "cell_type": "code",
   "execution_count": null,
   "metadata": {},
   "outputs": [],
   "source": [
    "# Baseline model\n",
    "model = tf.keras.models.Sequential([\n",
    "  tf.keras.layers.Flatten(input_shape=(28, 28)),\n",
    "  tf.keras.layers.Dense(128, activation='relu',kernel_initializer='he_normal'),\n",
    "  tf.keras.layers.Dense(10, activation='softmax')\n",
    "])\n",
    "\n",
    "model.compile(optimizer='adam',\n",
    "              loss='sparse_categorical_crossentropy',\n",
    "              metrics=['accuracy'])\n",
    "\n",
    "model.summary()"
   ]
  },
  {
   "cell_type": "code",
   "execution_count": null,
   "metadata": {},
   "outputs": [],
   "source": [
    "# Model plot\n",
    "from tensorflow.keras.utils import plot_model\n",
    "\n",
    "# Needs pydot and graphviz\n",
    "plot_model(model, to_file='model.png')\n",
    "\n",
    "img = plt.imread('model.png')\n",
    "plt.imshow(img)\n",
    "plt.show()"
   ]
  },
  {
   "cell_type": "code",
   "execution_count": null,
   "metadata": {},
   "outputs": [],
   "source": [
    "# Train the network and validate\n",
    "model.fit(x_train_s, y_train_s,\n",
    "           validation_data=(x_test_s, y_test_s),\n",
    "           epochs=5,\n",
    "           batch_size=32)"
   ]
  },
  {
   "cell_type": "code",
   "execution_count": null,
   "metadata": {},
   "outputs": [],
   "source": [
    "# Predict on a few test images\n",
    "def show_single_preds(index):\n",
    "    pred = model.predict_classes(np.expand_dims(x_test_s[index], axis=0))\n",
    "    print('Model\\'s prediction: ',str(class_names[np.asscalar(pred)]))\n",
    "    print('\\nReality:', str(class_names[y_test_s[index]]))\n",
    "    plt.imshow(x_test_s[index], cmap=plt.cm.binary)\n",
    "    plt.show()"
   ]
  },
  {
   "cell_type": "code",
   "execution_count": null,
   "metadata": {},
   "outputs": [],
   "source": [
    "show_single_preds(12)"
   ]
  },
  {
   "cell_type": "code",
   "execution_count": null,
   "metadata": {},
   "outputs": [],
   "source": [
    "show_single_preds(101)"
   ]
  },
  {
   "cell_type": "code",
   "execution_count": null,
   "metadata": {},
   "outputs": [],
   "source": [
    "show_single_preds(45)"
   ]
  },
  {
   "cell_type": "code",
   "execution_count": null,
   "metadata": {},
   "outputs": [],
   "source": [
    "# Visulization of models activations \n",
    "layer_outputs = [layer.output for layer in model.layers[:3]] \n",
    "activation_model = tf.keras.models.Model(inputs=model.input, outputs=layer_outputs) "
   ]
  },
  {
   "cell_type": "code",
   "execution_count": null,
   "metadata": {},
   "outputs": [],
   "source": [
    "# Get the raw image pixels: first test image in this case\n",
    "img_tensor = np.expand_dims(x_test_s[0], axis=0)\n",
    "# Get the activations\n",
    "activations = activation_model.predict(img_tensor)"
   ]
  },
  {
   "cell_type": "code",
   "execution_count": null,
   "metadata": {},
   "outputs": [],
   "source": [
    "# What is there in the second layer?\n",
    "second_layer_activation = activations[1]\n",
    "print(second_layer_activation.shape)"
   ]
  },
  {
   "cell_type": "code",
   "execution_count": null,
   "metadata": {},
   "outputs": [],
   "source": [
    "# Reshape\n",
    "reshaped = second_layer_activation.reshape(1, 16, 8)"
   ]
  },
  {
   "cell_type": "code",
   "execution_count": null,
   "metadata": {},
   "outputs": [],
   "source": [
    "plt.matshow(reshaped[0, :, :], cmap=plt.cm.binary)"
   ]
  },
  {
   "cell_type": "code",
   "execution_count": null,
   "metadata": {},
   "outputs": [],
   "source": [
    "# What is there in the output layer?\n",
    "output_layer_activation = activations[2]\n",
    "print(output_layer_activation.shape)"
   ]
  },
  {
   "cell_type": "code",
   "execution_count": null,
   "metadata": {
    "scrolled": false
   },
   "outputs": [],
   "source": [
    "# Reshape\n",
    "reshaped = output_layer_activation.reshape(1, 5, 2)\n",
    "plt.matshow(reshaped[0, :, :], cmap=plt.cm.binary)"
   ]
  },
  {
   "cell_type": "code",
   "execution_count": null,
   "metadata": {},
   "outputs": [],
   "source": [
    "# Plotting model's confusion matrix\n",
    "import scikitplot as skplt\n",
    "\n",
    "preds = model.predict_classes(x_test_s)\n",
    "\n",
    "skplt.metrics.plot_confusion_matrix(y_test_s, preds, figsize=(7,7))\n",
    "plt.show()"
   ]
  },
  {
   "cell_type": "code",
   "execution_count": null,
   "metadata": {},
   "outputs": [],
   "source": [
    "# Saving the subsets for reproducibility\n",
    "np.save('x_train_s.npy', x_train_s)\n",
    "np.save('y_train_s.npy', y_train_s)\n",
    "np.save('x_test_s.npy', x_test_s)\n",
    "np.save('y_test_s.npy', y_test_s)"
   ]
  },
  {
   "cell_type": "code",
   "execution_count": null,
   "metadata": {},
   "outputs": [],
   "source": [
    "# Load and verify\n",
    "a = np.load('tmp/x_train_s.npy')\n",
    "plt.imshow(a[0], cmap=plt.cm.binary)\n",
    "plt.show()"
   ]
  }
 ],
 "metadata": {
  "kernelspec": {
   "display_name": "Python 3",
   "language": "python",
   "name": "python3"
  },
  "language_info": {
   "codemirror_mode": {
    "name": "ipython",
    "version": 3
   },
   "file_extension": ".py",
   "mimetype": "text/x-python",
   "name": "python",
   "nbconvert_exporter": "python",
   "pygments_lexer": "ipython3",
   "version": "3.6.5"
  }
 },
 "nbformat": 4,
 "nbformat_minor": 2
}
